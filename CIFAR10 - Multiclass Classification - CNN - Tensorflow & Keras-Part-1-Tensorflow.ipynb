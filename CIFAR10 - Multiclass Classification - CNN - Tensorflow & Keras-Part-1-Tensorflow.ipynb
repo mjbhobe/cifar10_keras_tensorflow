{
 "cells": [
  {
   "cell_type": "markdown",
   "metadata": {},
   "source": [
    "# <center>CIFAR10 - Image Classification with Tensorflow & Keras\n",
    "<br/><center><img src=\"files/keras-tensorflow-logo.jpg\"></center>\n",
    "\n",
    "\n",
    "## Part-1 - Creating the base model with Tensorflow\n",
    "\n",
    "In this series, we will illustrate multi-class image classification for the CIFAR10 dataset using Convolution Neural Networks (CNNs). The CIFAR-10 dataset consists of 60,000 32x32 colour images in 10 classes, with 6,000 images per class. There are 50,000 training images and 10,000 test images. Output classes defined are `['airplane', 'automobile', 'bird', 'cat', 'deer', 'dog', 'frog'. 'horse', 'ship', 'truck']`. You can download the image set for Python from [this link](https://www.cs.toronto.edu/~kriz/cifar.html). However, the Keras library already includes this dataset and I am going to load it from there.  \n",
    "\n",
    "A good model/network, is one that generalizes well (i.e. performs well on data that it has not seen during training). With CNNs, indeed any deep network, the main problem is overfitting (and hence poor generalization). For a given network/model architecture, we can address overfitting my using regularization & increasing the size of the training data.\n",
    "\n",
    "We will develop a progressively improving model with the following steps:\n",
    "1. In **Part-1**: We'll develop a base-model. You'll notice that this model overfits and does not generalize well (i.e. accuracy score on test/validation data is poor compared to training data).\n",
    "2. In **Part-2**: We'll add regularization (- we'll use L2 regularization &amp; dropout regularization) and batch normalization. You'll see that this improves the model's generalization somewhat.\n",
    "3. In **Part-3**: We'll increase training data size artifically - we'll use image augmentation techniques to create an infinite stream of image batches with random transformations applied to each batch. You'll notice that adding image augmentation improves the model generalization further. We'll use Keras' `ImageDataGenerator()`class [see API](https://keras.io/preprocessing/image/#imagedatagenerator-class) for the same.\n",
    "\n",
    "Each part has 2 associated IPython notebooks - one with the Keras code and the other with the Tensorflow code. \n",
    "\n",
    "**This is Part-1 (Tensorflow Version)** - you can jump directly to the [Keras version here](CIFAR10%20-%20Multiclass%20Classification%20-%20CNN%20-%20Tensorflow%20%26%20Keras-Part-1-Keras.ipynb) if you prefer to use Keras instead.\n",
    "\n",
    "In this (Tensorflow) version, I provide a lot of convenience functions to build, train & evaluate our model as well as to predict outcomes. I also include code (not so robust, but workable!) of a Keras like progress bar that updates you of the progress as the Tensorflow model trains across epochs.\n",
    "\n",
    "This workbook is divided into 4 broad sections:\n",
    "+ [Helper functions](#helper_functions)\n",
    "+ [Loading & Preprocessing Data](#loading_and_preprocessing)\n",
    "+ [Building & Running our Tensorflow Model](#building_and_running_model)\n",
    "+ [Predictions](#predictions)\n",
    "\n",
    "<font color='scarlet'> I would encourage you to run these models on a machine with a GPU - I have run these on a _modest_ configuration (i5 CPU, Win10-64bit, 8GB RAM, 2GB Nvidea GPU). I have also run these on a CPU-only machine, but the models took very long to complete.</font>"
   ]
  },
  {
   "cell_type": "code",
   "execution_count": 1,
   "metadata": {},
   "outputs": [],
   "source": [
    "# imports & tweaks\n",
    "import numpy as np\n",
    "import matplotlib.pyplot as plt\n",
    "import seaborn as sns\n",
    "import sys, time\n",
    "import tensorflow as tf\n",
    "\n",
    "plt.style.use('seaborn-colorblind')\n",
    "plt.rcParams['figure.figsize'] = (8,6)\n",
    "sns.set_style('darkgrid')\n",
    "sns.set_context('talk')\n",
    "sns.set_style({'font.sans-serif':['Verdana','Arial','Calibri','DejaVu Sans']})\n",
    "%matplotlib inline\n",
    "\n",
    "seed = 123\n",
    "np.random.seed(seed)\n",
    "tf.set_random_seed(seed)"
   ]
  },
  {
   "cell_type": "markdown",
   "metadata": {},
   "source": [
    "### Helper Functions: \n",
    "<font color='scarlet'><b>WARNING:</b></font> Do not make any changes to these Helper functions, unless you are very sure about what you are doing. It may break the entire training/test code.\n",
    "#### Generic Helper Functions <a name=\"helper_functions\"/>"
   ]
  },
  {
   "cell_type": "code",
   "execution_count": 2,
   "metadata": {},
   "outputs": [],
   "source": [
    "# a utility function that plots the losses and accuracies for training & validation sets across our epochs\n",
    "def show_plots(history):\n",
    "    \"\"\" Useful function to view plot of loss values & accuracies across the various epochs \"\"\"\n",
    "    loss_vals = history['loss']\n",
    "    val_loss_vals = history['val_loss']\n",
    "    epochs = range(1, len(history['acc'])+1)\n",
    "    \n",
    "    f, ax = plt.subplots(nrows=1,ncols=2,figsize=(16,4))\n",
    "    \n",
    "    # plot losses on ax[0]\n",
    "    ax[0].plot(epochs, loss_vals, color='navy',marker='o', linestyle=' ', label='Training Loss')\n",
    "    ax[0].plot(epochs, val_loss_vals, color='firebrick', marker='*', label='Validation Loss')\n",
    "    ax[0].set_title('Training & Validation Loss')\n",
    "    ax[0].set_xlabel('Epochs')\n",
    "    ax[0].set_ylabel('Loss')\n",
    "    ax[0].legend(loc='best')\n",
    "    ax[0].grid(True)\n",
    "    \n",
    "    # plot accuracies\n",
    "    acc_vals = history['acc']\n",
    "    val_acc_vals = history['val_acc']\n",
    "\n",
    "    ax[1].plot(epochs, acc_vals, color='navy', marker='o', ls=' ', label='Training Accuracy')\n",
    "    ax[1].plot(epochs, val_acc_vals, color='firebrick', marker='*', label='Validation Accuracy')\n",
    "    ax[1].set_title('Training & Validation Accuracy')\n",
    "    ax[1].set_xlabel('Epochs')\n",
    "    ax[1].set_ylabel('Accuracy')\n",
    "    ax[1].legend(loc='best')\n",
    "    ax[1].grid(True)\n",
    "    \n",
    "    plt.show()\n",
    "    plt.close()\n",
    "    \n",
    "    # delete locals from heap before exiting\n",
    "    del loss_vals, val_loss_vals, epochs, acc_vals, val_acc_vals"
   ]
  },
  {
   "cell_type": "code",
   "execution_count": 3,
   "metadata": {},
   "outputs": [],
   "source": [
    "def print_time_taken(start_time, end_time):\n",
    "    secs_elapsed = end_time - start_time\n",
    "    \n",
    "    SECS_PER_MIN = 60\n",
    "    SECS_PER_HR  = 60 * SECS_PER_MIN\n",
    "    \n",
    "    hrs_elapsed, secs_elapsed = divmod(secs_elapsed, SECS_PER_HR)\n",
    "    mins_elapsed, secs_elapsed = divmod(secs_elapsed, SECS_PER_MIN)\n",
    "    \n",
    "    if hrs_elapsed > 0:\n",
    "        print('Time taken: %d hrs %d mins %d secs' % (hrs_elapsed, mins_elapsed, secs_elapsed))\n",
    "    elif mins_elapsed > 0:\n",
    "        print('Time taken: %d mins %d secs' % (mins_elapsed, secs_elapsed))\n",
    "    elif secs_elapsed > 1:\n",
    "        print('Time taken: %d secs' % (secs_elapsed))\n",
    "    else:\n",
    "        print('Time taken - less than 1 sec')"
   ]
  },
  {
   "cell_type": "markdown",
   "metadata": {},
   "source": [
    "#### Tensorflow Model specific helper functions\n",
    "Below are several utility functions created to ease the process of training Tensoflow CNN & ANN. Functions that begin with _ _ (double under-scores) are to be treated as 'internal' (or _private_) functions, which should not be called directly when training/testing models. You should use only the 'public' functions that don't begin with _ _."
   ]
  },
  {
   "cell_type": "code",
   "execution_count": 4,
   "metadata": {},
   "outputs": [],
   "source": [
    "tf_activation_fxns_map = {\n",
    "    # covering most commonly used activation functions\n",
    "    # please add to this as appropriate\n",
    "    'relu' : tf.nn.relu,\n",
    "    'elu' : tf.nn.elu,\n",
    "    'sigmoid' : tf.nn.sigmoid,\n",
    "    'tanh' : tf.nn.tanh,\n",
    "    'leaky_relu' : tf.nn.leaky_relu\n",
    "}"
   ]
  },
  {
   "cell_type": "code",
   "execution_count": 5,
   "metadata": {},
   "outputs": [],
   "source": [
    "def conv2d(x, W, b, strides=1, padding='SAME', activation='relu'):\n",
    "    \"\"\" creates a 2d convolution layer given a layer (x), weights (W) & biases (b), \n",
    "        strides (defaults=1) & padding(def 'SAME') \"\"\"\n",
    "    x = tf.nn.conv2d(x, W, strides=[1,strides,strides,1], padding=padding)\n",
    "    x = tf.nn.bias_add(x, b)\n",
    "    assert activation in tf_activation_fxns_map.keys()\n",
    "    return tf_activation_fxns_map[activation](x)"
   ]
  },
  {
   "cell_type": "code",
   "execution_count": 6,
   "metadata": {},
   "outputs": [],
   "source": [
    "def maxpool2d(x, pool_size=2, padding='VALID'):\n",
    "    \"\"\" creates a max-pooling layer, with given pool_size (defaults to 2)\"\"\"\n",
    "    return tf.nn.max_pool(x, ksize=[1, pool_size, pool_size, 1], \n",
    "                          strides=[1, pool_size, pool_size, 1], padding=padding)"
   ]
  },
  {
   "cell_type": "code",
   "execution_count": 7,
   "metadata": {},
   "outputs": [],
   "source": [
    "def flatten(layer, weights_fc1):\n",
    "    \"\"\" flattens out a layer before connecting to a dense layers \n",
    "        weights_fc1 = first fully connected layer\n",
    "    \"\"\"\n",
    "    flt = tf.reshape(layer, [-1, weights_fc1.get_shape().as_list()[0]])\n",
    "    return flt"
   ]
  },
  {
   "cell_type": "code",
   "execution_count": 8,
   "metadata": {},
   "outputs": [],
   "source": [
    "def dense(x, W, b, activation='relu'):\n",
    "    \"\"\" creates a dense (or fully connected) layer \n",
    "    @params:\n",
    "        x - previous or input layer tensor\n",
    "        W - weights Variable for this layer\n",
    "        b - bias Variable for this layer\n",
    "    @returns:\n",
    "        tf.nn.relu(tf.matmul(x,W) + b)\n",
    "    \"\"\"\n",
    "    dl = tf.add(tf.matmul(x, W), b)\n",
    "    assert activation in tf_activation_fxns_map.keys()\n",
    "    return tf_activation_fxns_map[activation](dl)"
   ]
  },
  {
   "cell_type": "code",
   "execution_count": 9,
   "metadata": {},
   "outputs": [],
   "source": [
    "def __update_progbar(batch_num=None, num_batches=25, train_cost=None, train_acc=None, val_test_cost=None, \n",
    "                     val_test_acc=None, phase='train', final=False, eta=None):\n",
    "        \n",
    "    phase = phase.lower()\n",
    "    if phase not in ['train','valid','eval','done']:\n",
    "        raise ValueError('Unknown value for phase param - %s' % phase)\n",
    "        \n",
    "    phase_lookup = {\n",
    "        'train' : 'Training',\n",
    "        'valid' : 'Validating',\n",
    "        'eval'  : 'Evaluating',\n",
    "        'done'  : 'Completed!'\n",
    "    }\n",
    "    \n",
    "    # ---------------------------------------------------------------------------\n",
    "    # this is a helper function that displays a Keras-like progress bar as the\n",
    "    # Tensorflow model does a batch training or testing\n",
    "    # NOTE: this function is closely linked with batch_calc_loss_acc() function\n",
    "    # and is not a very extensible function. Ideally, I should have implemented\n",
    "    # a class with entry points for epoch_start/end batch_start/end etc.\n",
    "    # Maybe next time :)\n",
    "    # ---------------------------------------------------------------------------\n",
    "    progbar_num_ticks = 25\n",
    "    \n",
    "    def get_prog_ticks(batch_num):\n",
    "        # num_batchs <=> progbar_num_ticks \n",
    "        prog_tick = (batch_num  * progbar_num_ticks) // num_batches\n",
    "        prog_tick = (1 if prog_tick <= 0 else prog_tick)\n",
    "        bal_tick = (progbar_num_ticks - prog_tick)\n",
    "        return prog_tick, bal_tick \n",
    "    \n",
    "    def eta_str(eta):\n",
    "        SECS_PER_MIN = 60\n",
    "        SECS_PER_HR  = 60 * SECS_PER_MIN\n",
    "\n",
    "        hrs_elapsed, secs_elapsed = divmod(eta, SECS_PER_HR)\n",
    "        mins_elapsed, secs_elapsed = divmod(eta, SECS_PER_MIN)\n",
    "\n",
    "        if hrs_elapsed > 0:\n",
    "            return 'ETA: %dh %dm %ds - ' % (hrs_elapsed, mins_elapsed, secs_elapsed)\n",
    "        elif mins_elapsed > 0:\n",
    "            return 'ETA: %dm %ds - ' % (mins_elapsed, secs_elapsed)\n",
    "        elif secs_elapsed > 1:\n",
    "            return 'ETA: %ds - ' % (secs_elapsed)\n",
    "        else:\n",
    "            return 'ETA: <1s - '         \n",
    "    \n",
    "    len_num_batches = len(str(num_batches))\n",
    "    \n",
    "    if batch_num is None:\n",
    "        # initial display only\n",
    "        prog_bar = '  %s will commence shortly. Please wait...' % phase_lookup[phase]\n",
    "    else:        \n",
    "        prog_tick, bal_tick = get_prog_ticks(batch_num)\n",
    "\n",
    "        if not final:\n",
    "            # Training or Validating message\n",
    "            prog_bar = '  %s : Batch (%*d/%*d) [%s%s%s] -> %sloss: %.4f - acc: %.4f%s' % \\\n",
    "                (phase_lookup[phase], len_num_batches, batch_num, len_num_batches, num_batches, \n",
    "                 ('='*(prog_tick-1)), '>', ('.'*(bal_tick)), \n",
    "                 (eta_str(eta) if eta is not None else ''),\n",
    "                 train_cost, train_acc,' '*10)            \n",
    "        else: # final display\n",
    "            # it may not contain validation data\n",
    "            if ((val_test_cost is None) or (val_test_acc is None)):\n",
    "                prog_bar = '  %s Batch (%*d/%*d) [%s] -> loss: %.4f - acc: %.4f\\n' % \\\n",
    "                    ((phase_lookup[phase] + ' :' if phase =='eval' else ''), len_num_batches, batch_num, \n",
    "                     len_num_batches, num_batches, \n",
    "                     ('='*(progbar_num_ticks)), train_cost, train_acc)                \n",
    "            else:\n",
    "                prog_bar = '  %s Batch (%*d/%*d) [%s] -> loss: %.4f - acc: %.4f - val_loss: %.4f - val_acc: %.4f\\n' % \\\n",
    "                    ((phase_lookup[phase] + ' :' if phase =='eval' else ''), len_num_batches, batch_num, \n",
    "                     len_num_batches, num_batches, \n",
    "                     ('='*(progbar_num_ticks)), train_cost, train_acc, val_test_cost, val_test_acc)      \n",
    "                                                    \n",
    "    print(prog_bar, end='\\r',flush=True)"
   ]
  },
  {
   "cell_type": "code",
   "execution_count": 10,
   "metadata": {},
   "outputs": [],
   "source": [
    "def __batch_calc_loss_acc(sess, model, data, labels, batch_size, do_training=False, \n",
    "                          show_progbar=True, phase='train', final=False):\n",
    "    \n",
    "    # -------------------------------------------------------------------------------------------\n",
    "    # batch calculates loss & accuracy using loss & accuracy 'attributes' of the model dict\n",
    "    # batch calculations preclude OOM errors in Tensorflow - does not avoid them, but you could\n",
    "    # tweak the batch size to almost eliminate them\n",
    "    # NOTE: pass only a fitted Karas ImageDataGenerator with the karas_imagen parameter when using\n",
    "    # image augmentation!!\n",
    "    # --------------------------------------------------------------------------------------------\n",
    "    \n",
    "    num_batches = int(data.shape[0] / batch_size)\n",
    "        \n",
    "    train_op, cost, accuracy = model['train_op'], model['loss'], model['accuracy']\n",
    "\n",
    "    loss, acc = 0.0, 0.0\n",
    "        \n",
    "    eta = None\n",
    "    cum_time = 0.0\n",
    "\n",
    "    for batch_num in range(num_batches):\n",
    "        batch_start_time = time.time()\n",
    "        x_train_batch = data[batch_num * batch_size : min((batch_num+1) * batch_size,len(data))]\n",
    "        y_train_batch = labels[batch_num * batch_size : min((batch_num+1) * batch_size, len(labels))]\n",
    "            \n",
    "        feed_dict = {X:x_train_batch, y:y_train_batch}\n",
    "            \n",
    "        if do_training:\n",
    "            # run a training op & update weights\n",
    "            sess.run(train_op, feed_dict=feed_dict)\n",
    "        \n",
    "        # calculate batch loss & accuracy\n",
    "        train_loss_batch, train_acc_batch = sess.run([cost, accuracy], feed_dict=feed_dict)\n",
    "        loss += (batch_size * train_loss_batch)\n",
    "        acc += (batch_size * train_acc_batch)\n",
    "        batch_end_time = time.time()\n",
    "           \n",
    "        # Calculate ETA: We calculate average time per step so far & extrapolate\n",
    "        cum_time += (batch_end_time - batch_start_time)\n",
    "        time_per_batch = cum_time / (batch_num + 1)\n",
    "        batches_remaining = num_batches - (batch_num + 1)\n",
    "        eta = time_per_batch * batches_remaining\n",
    "        \n",
    "        if show_progbar:\n",
    "            __update_progbar(batch_num=batch_num+1, num_batches=num_batches, train_cost=train_loss_batch, \n",
    "                             train_acc=train_acc_batch, phase=phase, final=final, eta=eta)    \n",
    "\n",
    "    loss /= data.shape[0]\n",
    "    acc /= data.shape[0]   \n",
    "        \n",
    "    return loss, acc"
   ]
  },
  {
   "cell_type": "code",
   "execution_count": 11,
   "metadata": {},
   "outputs": [],
   "source": [
    "def __batch_run_model(sess, model, train_data, train_labels, num_epochs=10, batch_size=32,  \n",
    "                      validation_data=None, do_training=True, show_progbar=True):\n",
    "    \n",
    "    # note validation_data is a tuple (val_data, val_labels)\n",
    "    history_val = {\n",
    "        'loss' : [],\n",
    "        'acc' : [],   \n",
    "        'val_loss' : [],\n",
    "        'val_acc' : []\n",
    "    }\n",
    "    history_no_val = {\n",
    "        'loss' : [],\n",
    "        'acc' : [],   \n",
    "    }\n",
    "    \n",
    "    val_data, val_labels = None, None\n",
    "    \n",
    "    if validation_data is not None:\n",
    "        if type(validation_data) is not tuple:\n",
    "            raise ValueError('Invalid data type: The validation_data parameter must be a tuple or None!')\n",
    "        else:\n",
    "            val_data, val_labels = validation_data\n",
    "    \n",
    "    history = (history_no_val if validation_data is None else history_val)\n",
    "    validating = (False if validation_data is None else True)\n",
    "    num_batches = int(train_data.shape[0] / batch_size)    \n",
    "    \n",
    "    if do_training:\n",
    "        if validating:\n",
    "            print('Train on %d samples, validate with %d samples. Train for %d epochs, with %d batches per epoch.' % \\\n",
    "                  (len(train_data), len(val_data), num_epochs, num_batches))\n",
    "        else:\n",
    "            print('Train on %d samples. Train for %d epochs,, with %d batches per epoch.' % \\\n",
    "                  (len(train_data), num_epochs, num_batches))            \n",
    "    \n",
    "    for epoch in range(num_epochs):\n",
    "        if num_epochs > 1: \n",
    "            print('Epoch %d/%d:' % (epoch+1, num_epochs))\n",
    "\n",
    "        phase_x = ('train' if do_training else 'eval')\n",
    "        # calculate loss & accuracy on training data set\n",
    "        train_loss, train_acc = __batch_calc_loss_acc(sess, model, train_data, train_labels, batch_size, \n",
    "                                                      do_training=do_training, show_progbar=show_progbar, \n",
    "                                                      phase=phase_x, final=False)\n",
    "\n",
    "        if validating:\n",
    "            # compute costs & accuracies on validation sets if we are also validating\n",
    "#             __update_progbar(batch_num=num_batches, num_batches=num_batches, train_cost=train_loss,\n",
    "#                              train_acc=train_acc, phase='valid', final=False)  \n",
    "            \n",
    "            val_loss, val_acc = __batch_calc_loss_acc(sess, model, val_data, val_labels, \n",
    "                                                      np.minimum(val_data.shape[0],batch_size), \n",
    "                                                      do_training=False, show_progbar=True, \n",
    "                                                      phase='valid', final=False)\n",
    "            \n",
    "            __update_progbar(batch_num=num_batches, num_batches=num_batches, train_cost=train_loss,\n",
    "                             train_acc=train_acc, val_test_cost=val_loss, val_test_acc=val_acc, phase=phase_x, \n",
    "                             final=True)\n",
    "            sys.stdout.flush()\n",
    "            history['loss'].append(train_loss)\n",
    "            history['acc'].append(train_acc)    \n",
    "            history['val_loss'].append(val_loss)\n",
    "            history['val_acc'].append(val_acc)\n",
    "        else:\n",
    "            __update_progbar(batch_num=num_batches, num_batches=num_batches, train_cost=train_loss,\n",
    "                             train_acc=train_acc, phase= phase_x, final=True)\n",
    "            sys.stdout.flush()\n",
    "            history['loss'].append(train_loss)\n",
    "            history['acc'].append(train_acc)    \n",
    "            \n",
    "        #print('', flush=True)\n",
    "    \n",
    "    return history"
   ]
  },
  {
   "cell_type": "code",
   "execution_count": 12,
   "metadata": {},
   "outputs": [],
   "source": [
    "def __batch_run_predict(sess, model, data, batch_size):\n",
    "    num_batches = np.maximum(int(data.shape[0] / batch_size),1)\n",
    "    predictions = []\n",
    "    \n",
    "    out = model['out']\n",
    "    \n",
    "    for batch_num in range(num_batches):\n",
    "        # grab the Nth batch\n",
    "        x_batch = data[batch_num * batch_size : min((batch_num+1) * batch_size,len(data))]\n",
    "        pred = sess.run(out, feed_dict={X:x_batch})\n",
    "        predictions.extend(pred.tolist())\n",
    "    \n",
    "    return np.array(predictions)"
   ]
  },
  {
   "cell_type": "code",
   "execution_count": 13,
   "metadata": {},
   "outputs": [],
   "source": [
    "def train_model(sess, model, data, labels, num_epochs=10, batch_size=32,validation_split=None, \n",
    "                validation_data=None):\n",
    "    \"\"\"\n",
    "    trains the model on data & labels and cross-validates on validation_data, if provided. The\n",
    "    model is run through batch gradient descent, using a batch size = batch_size (=32 by default)\n",
    "    for num_epochs (=10 by default) epochs.\n",
    "    @params:\n",
    "        - sess: Tensorflow Session() object \n",
    "        - model: The Tensorflow model, built elsewhere. The model is expected to have named\n",
    "            attributes 'train_op', 'loss', 'accuracy' etc. defined\n",
    "        - data & labels: training data & labels\n",
    "        - num_epochs: number of epochs through which training is run (optional, default = 10)\n",
    "        - batch_size: number of records that will be randomly drawn from data & labels and fed as a\n",
    "            batch to the training operation (optional, default = 32)\n",
    "        - validation_split: fraction (floating point value) of the training data that must be set aside as the \n",
    "            validation data (optional). E.g. if validation_split=0.1, then 10% of the data & labels (training set)\n",
    "            is randomly set aside as validation data & balance 90% is used as the training set.\n",
    "        - validation_data: a tuple of (val_data, val_labels) that define the validation set against which\n",
    "          the model will cross-validate (optional). You can use this INSTEAD of using validation_split.\n",
    "            \n",
    "            NOTE: \n",
    "            - use either validation_data or validation_split. If BOTH are used than validation_split is given\n",
    "              preference & validation_data is ignored.\n",
    "            - it is always a good idea to shuffle the training/validation data before calling this function, unless\n",
    "              data must be in some sequence!\n",
    "    \"\"\"\n",
    "\n",
    "    if validation_split is not None:\n",
    "        num_val_recs = int(validation_split * data.shape[0])\n",
    "        # set-aside num_val_recs as validation set from data, rest is data\n",
    "        val_data = data[:num_val_recs]\n",
    "        val_labels = labels[:num_val_recs]\n",
    "        data2 = data[num_val_recs:]\n",
    "        labels2 = labels[num_val_recs:]\n",
    "\n",
    "        history = __batch_run_model(sess, model, data2, labels2, num_epochs, batch_size,\n",
    "                                    validation_data=(val_data, val_labels), do_training=True, \n",
    "                                    show_progbar=True)\n",
    "    else:\n",
    "        history = __batch_run_model(sess, model, data, labels, num_epochs, batch_size,\n",
    "                                    validation_data, do_training=True, show_progbar=True)\n",
    "\n",
    "    return history"
   ]
  },
  {
   "cell_type": "code",
   "execution_count": 14,
   "metadata": {},
   "outputs": [],
   "source": [
    "def evaluate_model(sess, model, data, labels, batch_size=32):\n",
    "    \"\"\" use only to evalute model's against test data \"\"\"\n",
    "    history = __batch_run_model(sess, model, data, labels, num_epochs=1, batch_size=batch_size, \n",
    "                                do_training=False, show_progbar=True, validation_data=None)\n",
    "    avg_loss, avg_acc = np.mean(history['loss']), np.mean(history['acc'])\n",
    "    return (avg_loss, avg_acc)"
   ]
  },
  {
   "cell_type": "code",
   "execution_count": 15,
   "metadata": {},
   "outputs": [],
   "source": [
    "def predict(sess, model, data):\n",
    "    \"\"\" predict the output classes - will return 1 output value per row of data \"\"\"\n",
    "    predictions = __batch_run_predict(sess, model, data, batch_size=np.minimum(data.shape[0],32))\n",
    "    return np.argmax(predictions, axis=1)"
   ]
  },
  {
   "cell_type": "code",
   "execution_count": 16,
   "metadata": {},
   "outputs": [],
   "source": [
    "def predict_probs(sess, model, data):\n",
    "    \"\"\" predict the output class probabilities - will return an array with shape (data.shape[0], num_classes)\"\"\"\n",
    "    predictions = __batch_run_predict(sess, model, test_data, batch_size=np.minimum(data.shape[0],32))\n",
    "    # convert log values to probabilities - take inverse logs\n",
    "    probabilities = sess.run(tf.nn.softmax(predictions))              \n",
    "    return np.argmax(predictions, axis=1), probabilities"
   ]
  },
  {
   "cell_type": "markdown",
   "metadata": {},
   "source": [
    "### Loading & Preprocessing Data <a name='loading_and_preprocessing' />\n",
    "\n",
    "I am going to load the MNIST dataset from the `keras.datasets` library using the `karas.datasets.cifar10.load_data()` function, which loads the CIFAR-10 dataset and conveniently returns two pairs of tuples for training & test datasets. This call will download data from the cs.toronto.edu website the very first time you run it. The images are re-shaped correctly as (num_samples, 32, 32, 3) & labels (num_samples, 1). However, the image data is not normalized and labels are not one-hot-encoded, which is what we will do in data preprocessing."
   ]
  },
  {
   "cell_type": "code",
   "execution_count": 17,
   "metadata": {},
   "outputs": [
    {
     "name": "stderr",
     "output_type": "stream",
     "text": [
      "Using TensorFlow backend.\n"
     ]
    }
   ],
   "source": [
    "from keras.datasets.cifar10 import load_data\n",
    "from keras.utils import to_categorical"
   ]
  },
  {
   "cell_type": "code",
   "execution_count": 18,
   "metadata": {},
   "outputs": [
    {
     "data": {
      "text/plain": [
       "((50000, 32, 32, 3), (50000, 1), (10000, 32, 32, 3), (10000, 1))"
      ]
     },
     "execution_count": 18,
     "metadata": {},
     "output_type": "execute_result"
    }
   ],
   "source": [
    "(train_data, train_labels), (test_data, test_labels) = load_data()\n",
    "train_data.shape, train_labels.shape, test_data.shape, test_labels.shape"
   ]
  },
  {
   "cell_type": "markdown",
   "metadata": {},
   "source": [
    "Notice that we have 50,000 images in the training set & 10,000 images in the test set. We have 10 catrgories of output labels - unlike the MNIST dataset, where they were values for numbers, here we have 10 distinct types.\n",
    "\n",
    "Label Values & Descriptions: \n",
    "* 0 - Airplane\n",
    "* 1 - Automobile\n",
    "* 2 - Bird\n",
    "* 3 - Cat \n",
    "* 4 - Deer \n",
    "* 5 - Dog \n",
    "* 6 - Frog \n",
    "* 7 - Horse \n",
    "* 8 - Ship \n",
    "* 9 - Truck\n",
    "\n",
    "Let us view how some of the images look - we will randomly pick 20 images from the `train_digits` set. First, let us create a dict that will help us decode the label values to text."
   ]
  },
  {
   "cell_type": "code",
   "execution_count": 19,
   "metadata": {},
   "outputs": [],
   "source": [
    "# need to look at labels again\n",
    "cifar10_labels = {\n",
    "    0 : 'Airplane', \n",
    "    1 : 'Automobile', \n",
    "    2 : 'Bird', \n",
    "    3 : 'Cat', \n",
    "    4 : 'Deer', \n",
    "    5 : 'Dog', \n",
    "    6 : 'Frog', \n",
    "    7 : 'Horse', \n",
    "    8 : 'Ship', \n",
    "    9 : 'Truck'    \n",
    "}"
   ]
  },
  {
   "cell_type": "code",
   "execution_count": 20,
   "metadata": {},
   "outputs": [],
   "source": [
    "rand_20 = np.random.randint(0, train_data.shape[0],20)\n",
    "sample_data = train_data[rand_20]\n",
    "sample_labels = train_labels[rand_20].ravel()"
   ]
  },
  {
   "cell_type": "code",
   "execution_count": 21,
   "metadata": {},
   "outputs": [
    {
     "data": {
      "image/png": "[encoded data removed]",
      "text/plain": [
       "<Figure size 1152x288 with 20 Axes>"
      ]
     },
     "metadata": {},
     "output_type": "display_data"
    }
   ],
   "source": [
    "row_count, col_count = 2, 10\n",
    "f, ax = plt.subplots(row_count, col_count, figsize=(16,4), gridspec_kw={'wspace':0.03, 'hspace':0.01}, squeeze=True)\n",
    "for r in range(row_count):\n",
    "    for c in range(col_count):\n",
    "        image_index = r * col_count + c\n",
    "        ax[r,c].axis(\"off\")\n",
    "        ax[r,c].imshow(sample_data[image_index])\n",
    "        ax[r,c].set_title(cifar10_labels[sample_labels[image_index]])\n",
    "plt.show()\n",
    "plt.close()"
   ]
  },
  {
   "cell_type": "markdown",
   "metadata": {},
   "source": [
    "**Data Pre-processing:** We need to pre-process our image & labels data for consumption by our CNN.\n",
    "* As the `load_data()` function has already returned the image & labels data in the correct shapes viz. training data -> Image shape: `(50000, 32, 32, 3)`, labels shape: `(50000,1)`; test data -> Image shape: `(10000, 32, 32, 3)`, labels shape: `(10000,1)`, **we can skip reshaping our image & label arrays**.\n",
    "* However, **the image data needs to be re-scaled** - we will convert image date to `float` type & divide by `255.0`, so all pixels have values between `0.0` & `1.0`.\n",
    "* Finally, **the image labels need to be one-hot-encoded** (as we have 10 classes) - we will use Keras' `to_categorical()` function to help us with this."
   ]
  },
  {
   "cell_type": "code",
   "execution_count": 22,
   "metadata": {},
   "outputs": [
    {
     "data": {
      "text/plain": [
       "(32, 32, 3, 3072)"
      ]
     },
     "execution_count": 22,
     "metadata": {},
     "output_type": "execute_result"
    }
   ],
   "source": [
    "image_height, image_width = train_data.shape[1], train_data.shape[2]\n",
    "num_channels = 3 # as we have color images\n",
    "input_shape = image_height * image_width * num_channels\n",
    "image_height, image_width, num_channels, input_shape"
   ]
  },
  {
   "cell_type": "code",
   "execution_count": 23,
   "metadata": {},
   "outputs": [],
   "source": [
    "# # normalize the images - between 0.0 & 1.0\n",
    "# train_data = train_data.astype('float32') / 255.\n",
    "# test_data = test_data.astype('float32') / 255.\n",
    "\n",
    "# mean normalize the data (i.e. z-scores)\n",
    "train_data = train_data.astype('float32')\n",
    "test_data = test_data.astype('float32')\n",
    "\n",
    "# mean normalize the images by calculating the mean & stdev of the test images\n",
    "# along all 4 axes and then finding the z-scores for train & test images using \n",
    "# these values.\n",
    "\n",
    "mean = np.mean(train_data,axis=(0,1,2,3))\n",
    "std = np.std(train_data,axis=(0,1,2,3))\n",
    "train_data = (train_data-mean)/(std)\n",
    "test_data = (test_data-mean)/(std)"
   ]
  },
  {
   "cell_type": "code",
   "execution_count": 24,
   "metadata": {},
   "outputs": [
    {
     "data": {
      "text/plain": [
       "((50000, 10), (10000, 10))"
      ]
     },
     "execution_count": 24,
     "metadata": {},
     "output_type": "execute_result"
    }
   ],
   "source": [
    "# one-hot-encode the labels - so 3 becomes [0 0 0 1 0 0 0 0 0 0] & so on...\n",
    "num_classes = 10\n",
    "train_labels_cat = to_categorical(train_labels,num_classes)\n",
    "test_labels_cat = to_categorical(test_labels,num_classes)\n",
    "train_labels_cat.shape, test_labels_cat.shape"
   ]
  },
  {
   "cell_type": "code",
   "execution_count": 25,
   "metadata": {},
   "outputs": [
    {
     "data": {
      "text/plain": [
       "((50000, 32, 32, 3), (50000, 10), (10000, 32, 32, 3), (10000, 10))"
      ]
     },
     "execution_count": 25,
     "metadata": {},
     "output_type": "execute_result"
    }
   ],
   "source": [
    "train_data.shape, train_labels_cat.shape, test_data.shape, test_labels_cat.shape"
   ]
  },
  {
   "cell_type": "markdown",
   "metadata": {},
   "source": [
    "Perfect!\n",
    "\n",
    "Following steps outline our training & evaluation methodology:\n",
    "* Shuffle the training data & labels, so as to rid it of any sort of ordering it may have (not required for test data).\n",
    "* Set aside 10% of the _training_ data & labels as _validation_ set (data & labels) - since we have shuffled the training data, we could choose the first 10% of records as the validation set & the rest as the training set.\n",
    "* Our CNN will be trained _strictly_ on the training data _only_ & _cross-validated_ on the validation set - for training, we will put the model through `num_epochs` epochs and use batch gradient descent, with a batch-size of `num_batches` - these are hyper-parameters that we define before training our model.\n",
    "* As the model trains, we will calculate the average loss & accuracies per epoch on the training & validation sets - these will then be plotted (loss vs epochs and accuracies vs epochs) to assess how our model is bahaving.\n",
    "* Finally we will test the model with test data, which the model has _never seen_ during training.\n",
    "\n",
    "As good test score will mean that the model is generalizing well. A poor score means that it needs improvement.\n",
    "\n",
    "**NOTE:** for a complex problem, like classification of colored images, we don't really have sufficient training data. So at the very outset, I am expecting _poor_ test scores!"
   ]
  },
  {
   "cell_type": "code",
   "execution_count": 26,
   "metadata": {},
   "outputs": [
    {
     "data": {
      "text/plain": [
       "((45000, 32, 32, 3),\n",
       " (45000, 10),\n",
       " (5000, 32, 32, 3),\n",
       " (5000, 10),\n",
       " (10000, 32, 32, 3),\n",
       " (10000, 1))"
      ]
     },
     "execution_count": 26,
     "metadata": {},
     "output_type": "execute_result"
    }
   ],
   "source": [
    "# shuffle the training dataset & set aside val_perc % of rows as validation data\n",
    "for _ in range(5): \n",
    "    indexes = np.random.permutation(len(train_data))\n",
    "\n",
    "# randomly sorted!\n",
    "train_data = train_data[indexes]\n",
    "train_labels_cat = train_labels_cat[indexes]\n",
    "\n",
    "# now we will set-aside val_perc% of the train_data/labels as cross-validation sets\n",
    "val_perc = 0.10\n",
    "val_count = int(val_perc * len(train_data))\n",
    "\n",
    "# first pick validation set\n",
    "val_data = train_data[:val_count,:]\n",
    "val_labels_cat = train_labels_cat[:val_count,:]\n",
    "\n",
    "# leave rest in training set\n",
    "train_data2 = train_data[val_count:,:]\n",
    "train_labels_cat2 = train_labels_cat[val_count:,:]\n",
    "\n",
    "train_data2.shape, train_labels_cat2.shape, val_data.shape, val_labels_cat.shape, test_data.shape, test_labels.shape"
   ]
  },
  {
   "cell_type": "code",
   "execution_count": 27,
   "metadata": {},
   "outputs": [],
   "source": [
    "# some globals, used across Tensorflow & Keras models\n",
    "num_features = train_data.shape[1]\n",
    "num_epochs = 15\n",
    "batch_size = 100\n",
    "kernel_size = 3\n",
    "pool_size = 2\n",
    "strides = 1"
   ]
  },
  {
   "cell_type": "markdown",
   "metadata": {},
   "source": [
    "### Building & Running our Tensorflow Model <a name=\"building_and_running_model\" />\n",
    "\n",
    "In this section we will create the base model with Tensorflow APIs and train it against our train/validation sets. We use the following config:\n",
    "* 4 Conv2D layers with 32, 64, 128, 128 filters - each layer with strides = 1 & padding='SAME' and `relu()` activation (see `conv2d()`).\n",
    "* A MaxPooling2D layer immediately after each Conv2D layer, with pool_size=2. So 4 MaxPooling2D layers, each of which will reduce the image dimension by 2\n",
    "* **NOTE**: After 4 MaxPooling2D layers, we end up with a 2 x 2 image.\n",
    "* Flatten out the output of the last Conv2D + MaxPool2D _layer_ before feeding into the densly connected layers.\n",
    "* 1 densly connected (of fully connected) layer with 512 nodes & relu activations\n",
    "* Output layer with 10 (num_classes) nodes\n",
    "* Since this is a multi-class classification problem, we will use `softmax cross-entropy` as cost/loss function\n",
    "* We will use the `RMSProp optimizer` with `learning rate = 0.001`\n",
    "* I have provided several convenient functions for building the model - there are functions to create weights & biases, build the model, train the model, evaluate the model and finally generate the predictions & prediction probabilities.\n",
    "\n",
    "But first, let us create some place holders, which we will use to pass in data to our Tensorflow model."
   ]
  },
  {
   "cell_type": "code",
   "execution_count": 28,
   "metadata": {},
   "outputs": [],
   "source": [
    "X = tf.placeholder(tf.float32, [None, image_height, image_width, num_channels], name='X')\n",
    "y = tf.placeholder(tf.float32, [None, num_classes], name='y')"
   ]
  },
  {
   "cell_type": "code",
   "execution_count": 29,
   "metadata": {},
   "outputs": [],
   "source": [
    "def init_cnn_weights_and_biases(image_shape, num_classes, conv_filters, num_maxpools, dense_nodes, kernel_size=3):\n",
    "    # create a dict of weights & biases like the \"expanded version below\"\n",
    "    # NOTE: All conv layer weights have keys wcXX & bcXX, and all dense layers have keys wdYY & bdYY\n",
    "    # where XX is an integer from 1..len(conv_filters) and YY is an integer from 1..len(dense_nodes)\n",
    "    # conv_filters - Python list where elements = # of filters per conv layer\n",
    "    # dense_nodes - Python list where elements = # of nodes per fully-connected (or Dense) layer\n",
    "    \n",
    "    # split the input_shape into individual dimensions of image\n",
    "    image_height, image_width, num_channels = image_shape\n",
    "    \n",
    "    # initializer for the weights - for biases we'll use np.zeros()\n",
    "    initializer =  tf.contrib.layers.xavier_initializer()\n",
    "    \n",
    "    weights, biases = {}, {}\n",
    "    \n",
    "    # add weights & biases for convolutional layers\n",
    "    cnn0 = num_channels\n",
    "    for i, cnn1 in enumerate(conv_filters):\n",
    "        wname = 'wc%d' % (i+1)\n",
    "        bname = 'bc%d' % (i+1)\n",
    "        weights[wname] = tf.Variable(initializer([kernel_size, kernel_size, cnn0, cnn1]), name=wname)\n",
    "        biases[bname] = tf.Variable(tf.zeros([cnn1]), name=bname)\n",
    "        cnn0 = cnn1\n",
    "    \n",
    "    # reduce the image dimension by 2 for evary maxpool2d layer\n",
    "    im_h, im_w = image_height, image_width\n",
    "    for _ in range(num_maxpools):\n",
    "        im_h //= 2\n",
    "        im_w //= 2\n",
    "        \n",
    "    assert (im_h > 0) and (im_w > 0)\n",
    "    \n",
    "    # add weights & biases for dense layers\n",
    "    dnn0 = im_h * im_w * cnn0\n",
    "    for i, dnn1 in enumerate(dense_nodes):\n",
    "        wname = 'wd%d' % (i+1)\n",
    "        bname = 'bd%d' % (i+1)\n",
    "        weights[wname] = tf.Variable(initializer([dnn0, dnn1]), name=wname)\n",
    "        biases[bname] = tf.Variable(tf.zeros([dnn1]), name=bname)\n",
    "        dnn0 = dnn1\n",
    "        \n",
    "    # add the weights & biases for output layer\n",
    "    weights['out'] = tf.Variable(initializer([dnn0, num_classes]), name='w_out')\n",
    "    biases['out'] = tf.Variable(initializer([num_classes]), name='b_out')\n",
    "    return weights, biases"
   ]
  },
  {
   "cell_type": "code",
   "execution_count": 30,
   "metadata": {},
   "outputs": [],
   "source": [
    "def build_tf_cnn_model(X, y, image_shape, num_classes):\n",
    "    \n",
    "    \"\"\"\n",
    "    convenience function to build a CNN model using the API defined above\n",
    "        @params:\n",
    "            - X, y - placeholder tensors to pass batch data into the conv-net\n",
    "            - image_shape - tuple of format (image_height, image_width, num_channels) that describes \n",
    "                 shape of an input image\n",
    "            - num_classes - number of output classes (2 for binary, N for multi-class with N outcomes)\n",
    "            - kernel_size (integer, optional, default=3) - size of the kernel that convolves over images\n",
    "               (e.g. for kernel_size=3, we use a 3x3 kernel for convolutions)\n",
    "            - pool_size (integer, optional, default=2) - size of the max-pooling window\n",
    "               (e.g. for pool_size=2, the CNN uses a 2x2 max-pooling window)        \n",
    "            - strides (integer, optional, default=1) - size of the stride in x & y direction\n",
    "            - padding (string, optional, default='SAME') - one of 'SAME' or 'VALID' \n",
    "    \"\"\"\n",
    "   # create Variables for weights & biases ------------------------------------------------------------\n",
    "    conv_filters = [32, 32, 64, 64, 128, 128]\n",
    "    num_maxpools = 3\n",
    "    dense_nodes  = [512]\n",
    "    weights, biases = init_cnn_weights_and_biases(image_shape, num_classes, conv_filters, \n",
    "                                                  num_maxpools, dense_nodes, kernel_size=3)\n",
    "    \n",
    "    # API for reference...\n",
    "    # def conv2d(x, W, b, strides=1, padding='SAME', activation='relu', batch_normalize=False):\n",
    "    # def maxpool2d(x, pool_size=2, padding='VALID'):\n",
    "    # def flatten(layer, weights_fc1):\n",
    "    # def dense(x, W, b, activation='relu', batch_normalize=False):\n",
    "    \n",
    "   # build out the network --------------------------------------------------------------------------\n",
    "    # conv2d layers + maxpool2d layers\n",
    "    conv1 = conv2d(X, weights['wc1'], biases['bc1'], strides=1, padding='SAME', activation='elu')\n",
    "    conv2 = conv2d(conv1, weights['wc2'], biases['bc2'], strides=1, padding='SAME', activation='elu')\n",
    "    mp1 = maxpool2d(conv2, pool_size=2)\n",
    "    \n",
    "    conv3 = conv2d(mp1, weights['wc3'], biases['bc3'], strides=1, padding='SAME', activation='elu')\n",
    "    conv4 = conv2d(conv3, weights['wc4'], biases['bc4'], strides=1, padding='SAME', activation='elu')\n",
    "    mp2 = maxpool2d(conv4, pool_size=2)\n",
    "    \n",
    "    conv5 = conv2d(mp2, weights['wc5'], biases['bc5'], strides=1, padding='SAME', activation='elu')\n",
    "    conv6 = conv2d(conv5, weights['wc6'], biases['bc6'], strides=1, padding='SAME', activation='elu')\n",
    "    mp3 = maxpool2d(conv6, pool_size=2)    \n",
    "    \n",
    "    # flatten\n",
    "    fc0 = flatten(mp3, weights['wd1'])\n",
    "    \n",
    "    # fully-connected (dense) layer(s)\n",
    "    fc1 = dense(fc0, weights['wd1'], biases['bd1'], activation='relu')\n",
    "        \n",
    "    # output layer\n",
    "    out = tf.add(tf.matmul(fc1, weights['out']), biases['out'])\n",
    "    \n",
    "  # other tensors required to \"complete\" the network  \n",
    "    # we will use softmax-crossentropy cost as this is a multiclass classification problem\n",
    "    cost = tf.reduce_mean(tf.nn.softmax_cross_entropy_with_logits_v2(labels=y, logits=out))\n",
    "    # RMSProp optimizer - as network arch is a little complex, using a small learning rate\n",
    "    optimizer = tf.train.RMSPropOptimizer(learning_rate=0.001)\n",
    "    train_op = optimizer.minimize(cost)\n",
    "    correct_prediction = tf.equal(tf.argmax(out,axis=1), tf.argmax(y, axis=1))\n",
    "    accuracy = tf.reduce_mean(tf.cast(correct_prediction, tf.float32))        \n",
    "    \n",
    "  #  now collect all these tensors & operators into a dict, which we can conveniently pass around\n",
    "  #  to the various utility functions we have created above\n",
    "  #  NOTE: keys of the dicts must be names EXACTLY as shown below, else the helper functions won't work.\n",
    "    model = {}\n",
    "    model['weights'] = weights\n",
    "    model['biases'] = biases\n",
    "    model['out'] = out\n",
    "    model['loss'] = cost\n",
    "    model['optimizer'] = optimizer\n",
    "    model['train_op'] = train_op\n",
    "    model['correct_prediction'] = correct_prediction\n",
    "    model['accuracy'] = accuracy\n",
    "    return model    "
   ]
  },
  {
   "cell_type": "markdown",
   "metadata": {},
   "source": [
    "Create the base model & train it on our training + validation data for `num_epoch` epochs & `batch_size` batches, which we defined as global variables above."
   ]
  },
  {
   "cell_type": "code",
   "execution_count": 31,
   "metadata": {},
   "outputs": [
    {
     "data": {
      "text/plain": [
       "{'weights': {'wc1': <tf.Variable 'wc1:0' shape=(3, 3, 3, 32) dtype=float32_ref>,\n",
       "  'wc2': <tf.Variable 'wc2:0' shape=(3, 3, 32, 32) dtype=float32_ref>,\n",
       "  'wc3': <tf.Variable 'wc3:0' shape=(3, 3, 32, 64) dtype=float32_ref>,\n",
       "  'wc4': <tf.Variable 'wc4:0' shape=(3, 3, 64, 64) dtype=float32_ref>,\n",
       "  'wc5': <tf.Variable 'wc5:0' shape=(3, 3, 64, 128) dtype=float32_ref>,\n",
       "  'wc6': <tf.Variable 'wc6:0' shape=(3, 3, 128, 128) dtype=float32_ref>,\n",
       "  'wd1': <tf.Variable 'wd1:0' shape=(2048, 512) dtype=float32_ref>,\n",
       "  'out': <tf.Variable 'w_out:0' shape=(512, 10) dtype=float32_ref>},\n",
       " 'biases': {'bc1': <tf.Variable 'bc1:0' shape=(32,) dtype=float32_ref>,\n",
       "  'bc2': <tf.Variable 'bc2:0' shape=(32,) dtype=float32_ref>,\n",
       "  'bc3': <tf.Variable 'bc3:0' shape=(64,) dtype=float32_ref>,\n",
       "  'bc4': <tf.Variable 'bc4:0' shape=(64,) dtype=float32_ref>,\n",
       "  'bc5': <tf.Variable 'bc5:0' shape=(128,) dtype=float32_ref>,\n",
       "  'bc6': <tf.Variable 'bc6:0' shape=(128,) dtype=float32_ref>,\n",
       "  'bd1': <tf.Variable 'bd1:0' shape=(512,) dtype=float32_ref>,\n",
       "  'out': <tf.Variable 'b_out:0' shape=(10,) dtype=float32_ref>},\n",
       " 'out': <tf.Tensor 'Add_1:0' shape=(?, 10) dtype=float32>,\n",
       " 'loss': <tf.Tensor 'Mean:0' shape=() dtype=float32>,\n",
       " 'optimizer': <tensorflow.python.training.rmsprop.RMSPropOptimizer at 0x7f75b601aa20>,\n",
       " 'train_op': <tf.Operation 'RMSProp' type=NoOp>,\n",
       " 'correct_prediction': <tf.Tensor 'Equal:0' shape=(?,) dtype=bool>,\n",
       " 'accuracy': <tf.Tensor 'Mean_1:0' shape=() dtype=float32>}"
      ]
     },
     "execution_count": 31,
     "metadata": {},
     "output_type": "execute_result"
    }
   ],
   "source": [
    "# build the tensorflow model\n",
    "image_shape = (image_height, image_width, num_channels)\n",
    "tf_base_model = build_tf_cnn_model(X, y, image_shape, num_classes)\n",
    "tf_base_model"
   ]
  },
  {
   "cell_type": "markdown",
   "metadata": {},
   "source": [
    "Create a Tensorflow session & train the model - the `train_model()` call will return a dict object, holding Python lists of training & validation losses & accuracies per epoch."
   ]
  },
  {
   "cell_type": "code",
   "execution_count": 32,
   "metadata": {
    "scrolled": false
   },
   "outputs": [
    {
     "name": "stdout",
     "output_type": "stream",
     "text": [
      "Train on 45000 samples, validate with 5000 samples. Train for 15 epochs, with 450 batches per epoch.\n",
      "Epoch 1/15:\n",
      "   Batch (450/450) [=========================] -> loss: 1.1242 - acc: 0.6299 - val_loss: 1.0041 - val_acc: 0.6550\n",
      "Epoch 2/15:\n",
      "   Batch (450/450) [=========================] -> loss: 0.3073 - acc: 0.9319 - val_loss: 0.8395 - val_acc: 0.7246\n",
      "Epoch 3/15:\n",
      "   Batch (450/450) [=========================] -> loss: 0.1140 - acc: 0.9816 - val_loss: 0.8955 - val_acc: 0.7434\n",
      "Epoch 4/15:\n",
      "   Batch (450/450) [=========================] -> loss: 0.0539 - acc: 0.9898 - val_loss: 1.1064 - val_acc: 0.7434\n",
      "Epoch 5/15:\n",
      "   Batch (450/450) [=========================] -> loss: 0.0320 - acc: 0.9926 - val_loss: 1.2707 - val_acc: 0.7514\n",
      "Epoch 6/15:\n",
      "   Batch (450/450) [=========================] -> loss: 0.0226 - acc: 0.9950 - val_loss: 1.4183 - val_acc: 0.7294\n",
      "Epoch 7/15:\n",
      "   Batch (450/450) [=========================] -> loss: 0.0193 - acc: 0.9951 - val_loss: 1.6048 - val_acc: 0.7430\n",
      "Epoch 8/15:\n",
      "   Batch (450/450) [=========================] -> loss: 0.0171 - acc: 0.9954 - val_loss: 1.7709 - val_acc: 0.7428\n",
      "Epoch 9/15:\n",
      "   Batch (450/450) [=========================] -> loss: 0.0162 - acc: 0.9951 - val_loss: 1.8673 - val_acc: 0.7550\n",
      "Epoch 10/15:\n",
      "   Batch (450/450) [=========================] -> loss: 0.0165 - acc: 0.9954 - val_loss: 1.8431 - val_acc: 0.7528\n",
      "Epoch 11/15:\n",
      "   Batch (450/450) [=========================] -> loss: 0.0143 - acc: 0.9959 - val_loss: 2.3114 - val_acc: 0.7498\n",
      "Epoch 12/15:\n",
      "   Batch (450/450) [=========================] -> loss: 0.0152 - acc: 0.9953 - val_loss: 2.1515 - val_acc: 0.7468\n",
      "Epoch 13/15:\n",
      "   Batch (450/450) [=========================] -> loss: 0.0147 - acc: 0.9958 - val_loss: 2.5829 - val_acc: 0.7476\n",
      "Epoch 14/15:\n",
      "   Batch (450/450) [=========================] -> loss: 0.0157 - acc: 0.9954 - val_loss: 2.6109 - val_acc: 0.7460\n",
      "Epoch 15/15:\n",
      "   Batch (450/450) [=========================] -> loss: 0.0137 - acc: 0.9959 - val_loss: 2.8272 - val_acc: 0.7388\n",
      "Time taken: 2 hrs 20 mins 6 secs\n"
     ]
    }
   ],
   "source": [
    "sess = tf.Session()\n",
    "sess.run(tf.global_variables_initializer())\n",
    "start_time = time.time()\n",
    "history = train_model(sess, tf_base_model, train_data2, train_labels_cat2, num_epochs=15, \n",
    "                      batch_size=100,validation_data=(val_data, val_labels_cat))\n",
    "end_time = time.time()\n",
    "print_time_taken(start_time, end_time)"
   ]
  },
  {
   "cell_type": "markdown",
   "metadata": {},
   "source": [
    "**Observation & Interpretation:** \n",
    "* We can see that the model achieves a training accuracy of ~99%, but the struggles to get above 74% for validation accuracy (see `acc` and `val_acc` columns in the output above). \n",
    "* This is indicative of an overfitting model - a model that has learnt the data patterns of the training set very well, but does not generalize well.\n",
    "\n",
    "Let's plot the test & validation losses vs epochs and test & validation accuracies vs epochs. Conveniently the `history` returned by the `train_model(...)` call encapsulates all the losses & accuracy values across epochs; and the provided `show_plots()` function plots out neat graphs in a 1 x 2 grid."
   ]
  },
  {
   "cell_type": "code",
   "execution_count": 33,
   "metadata": {
    "scrolled": true
   },
   "outputs": [
    {
     "data": {
      "image/png": "[encoded data removed]",
      "text/plain": [
       "<Figure size 1152x288 with 2 Axes>"
      ]
     },
     "metadata": {},
     "output_type": "display_data"
    }
   ],
   "source": [
    "show_plots(history)"
   ]
  },
  {
   "cell_type": "markdown",
   "metadata": {},
   "source": [
    "**Observations from graphs:** There you go. A tell-tale behavior of an overfitting model.\n",
    "+ On the top-left we are plotting training & validation loss vs epochs - we can see that the training loss falls smoothly towards zero. However the validation loss falls for a few epochs (~2-3) and then rises(!).\n",
    "+ On the top-right we are plotting the training & validation accuracies vs epochs - we can see that the training accuracy rises across epochs and approachs 1. However, the validation accuracy flattens out after a few epochs (~3-4) - it appears to be flattening around 74%.\n",
    "+ This means that the model has started overfitting our training images after ~6 epochs. Training for more epochs is not going to improve validation performance (we should be interested in validation accuracy more than training accuracy!).\n",
    "\n",
    "**Next, and very important, let us see how our model performs against test data** - recall that the model has not seen this data before (during the entire training process). Considering that the model fared poorly on validation data, I don't expect a good test accuracy score - it should be around 71%, the same value around which the validation accuracy curve started to flatten out at. Let's call the `evaluate_model()` function passing in test data - this functions does a batch run on training data for 1 epoch & reports the loss & accuracy as a tuple."
   ]
  },
  {
   "cell_type": "code",
   "execution_count": 34,
   "metadata": {},
   "outputs": [
    {
     "name": "stdout",
     "output_type": "stream",
     "text": [
      "  Evaluating : Batch (100/100) [=========================] -> loss: 2.8479 - acc: 0.7329acc: 0.7000          \n",
      "Testing -> loss: 2.848 accuracy: 0.733\n"
     ]
    }
   ],
   "source": [
    "test_loss, test_acc = evaluate_model(sess, tf_base_model, test_data, test_labels_cat, batch_size)\n",
    "print('Testing -> loss: %.3f accuracy: %.3f' % (test_loss, test_acc))"
   ]
  },
  {
   "cell_type": "markdown",
   "metadata": {},
   "source": [
    "Ok, we got ~73% test accuracy - this is a bad score as expected.\n",
    "\n",
    "Our model is not generalizing well at all - this is to be expected as we simply don't have enough images to train our image classifier on. Let's run some preductions on the model & see how it fares - again, I expect a lot of errors. We'll randomly pick 20 images from the test dataset & predict the outcomes & compare them to the actuals. We'll also predict the probabilities of each output class & view the top 3 predictions that our model came up with.\n",
    "\n",
    "### Predictions <a name=\"predictions\"/>"
   ]
  },
  {
   "cell_type": "code",
   "execution_count": 35,
   "metadata": {},
   "outputs": [],
   "source": [
    "# let's pick 20 random values from the test data\n",
    "rand_idx = np.random.randint(0, test_data.shape[0],20)\n",
    "test_images = test_data[rand_idx]\n",
    "test_labels_act = test_labels_cat[rand_idx]"
   ]
  },
  {
   "cell_type": "code",
   "execution_count": 36,
   "metadata": {},
   "outputs": [
    {
     "data": {
      "text/plain": [
       "array([5, 7, 1, 4, 9, 3, 5, 7, 3, 4, 7, 5, 5, 2, 4, 4, 0, 6, 7, 5])"
      ]
     },
     "execution_count": 36,
     "metadata": {},
     "output_type": "execute_result"
    }
   ],
   "source": [
    "# Actuals - we need to 'one-hot-decode' these\n",
    "y_true = np.argmax(test_labels_act, axis=1)\n",
    "y_true"
   ]
  },
  {
   "cell_type": "code",
   "execution_count": 37,
   "metadata": {},
   "outputs": [
    {
     "data": {
      "text/plain": [
       "array([5, 7, 1, 4, 9, 6, 5, 7, 3, 4, 7, 5, 3, 2, 4, 7, 0, 6, 7, 5])"
      ]
     },
     "execution_count": 37,
     "metadata": {},
     "output_type": "execute_result"
    }
   ],
   "source": [
    "# predictions\n",
    "y_pred = predict(sess, tf_base_model, test_images)\n",
    "y_pred"
   ]
  },
  {
   "cell_type": "markdown",
   "metadata": {},
   "source": [
    "Quickly eye-balling the above results, we can see quite a few incorrect predictions. Next, let's examine the top 3 predictions of our model."
   ]
  },
  {
   "cell_type": "code",
   "execution_count": 38,
   "metadata": {},
   "outputs": [],
   "source": [
    "def show_predictions(sess, model, data, one_hot_labels, label_names=None, top_n=3):\n",
    "    \n",
    "    \"\"\" for every row in the data/labels set, it shows the actual label, predicted label and the \n",
    "        top_n predictions of the model \"\"\"\n",
    "    def decode_topn(pred_pairs, label_names, top_n):\n",
    "        #[(6, 4, [(4, 0.99946624), (3, 0.00046321715), (6, 6.602875e-05)])\n",
    "        assert len(pred_pairs) == top_n\n",
    "        result = ''\n",
    "        for i in range(top_n):\n",
    "            result += '(%d%s:%.5f) ' % (pred_pairs[i][0], \n",
    "                                (' [' + label_names[pred_pairs[i][0]] + ']' if label_names is not None else ''),\n",
    "                                 pred_pairs[i][1])\n",
    "        return result    \n",
    "        \n",
    "    y_true = np.argmax(one_hot_labels, axis=1)\n",
    "    #def predict_probs(sess, model, data, batch_size=1):\n",
    "    y_pred, pred_probs = predict_probs(sess, model, data)\n",
    "    #y_pred = np.argmax(pred_probs, axis=1)\n",
    "    \n",
    "    # display grid of images with labels - NOTE: we have mean scaled the images, so they will not look the same\n",
    "    # as the original images\n",
    "    row_count, col_count = 2, 10\n",
    "    f, ax = plt.subplots(row_count, col_count, figsize=(16,4), gridspec_kw={'wspace':0.03, 'hspace':0.01}, squeeze=True)\n",
    "    for r in range(row_count):\n",
    "        for c in range(col_count):\n",
    "            image_index = r * col_count + c\n",
    "            ax[r,c].axis(\"off\")\n",
    "            ax[r,c].imshow(data[image_index])\n",
    "            ax[r,c].set_title(cifar10_labels[y_true[image_index]])\n",
    "    plt.show()\n",
    "    plt.close()\n",
    "    \n",
    "    results = []\n",
    "    \n",
    "    for i, _ in enumerate(y_true):\n",
    "        true_class_i = y_true[i]\n",
    "        pred_class_i = y_pred[i]\n",
    "        # for the ith prediction\n",
    "        pred_pairs_i = [(cls, pred_probs[i][cls]) for cls, _ in enumerate(pred_probs[i])]\n",
    "        pred_pairs_i = sorted(pred_pairs_i, key=lambda t: t[1], reverse=True)\n",
    "        results.append((true_class_i, pred_class_i, pred_pairs_i[:top_n]))\n",
    "                       \n",
    "    # above block will return a list, with each entry as below\n",
    "    # [(true_class_0, pred_class_0,[(4,0.98),(2,0.36),(0,0.15)]),\n",
    "    #  (true_class_1, pred_class_1, [(6,0.65),(0,0.45),(1,0.23)]),...]\n",
    "\n",
    "    assert len(results) == len(y_true)\n",
    "                              \n",
    "    # display formatted results\n",
    "    for i in range(len(y_true)):\n",
    "        #print(decode_topn(results[i][2]))\n",
    "        print('A: %d%s P: %d%s Top:%s' % \\\n",
    "               (results[i][0], (' (' + label_names[results[i][0]] + ')' if label_names is not None else ''),\n",
    "                results[i][1], (' (' + label_names[results[i][1]] + ')' if label_names is not None else ''),\n",
    "                decode_topn(results[i][2], label_names, top_n))\n",
    "             )"
   ]
  },
  {
   "cell_type": "code",
   "execution_count": 39,
   "metadata": {},
   "outputs": [
    {
     "name": "stderr",
     "output_type": "stream",
     "text": [
      "Clipping input data to the valid range for imshow with RGB data ([0..1] for floats or [0..255] for integers).\n",
      "Clipping input data to the valid range for imshow with RGB data ([0..1] for floats or [0..255] for integers).\n",
      "Clipping input data to the valid range for imshow with RGB data ([0..1] for floats or [0..255] for integers).\n",
      "Clipping input data to the valid range for imshow with RGB data ([0..1] for floats or [0..255] for integers).\n",
      "Clipping input data to the valid range for imshow with RGB data ([0..1] for floats or [0..255] for integers).\n",
      "Clipping input data to the valid range for imshow with RGB data ([0..1] for floats or [0..255] for integers).\n",
      "Clipping input data to the valid range for imshow with RGB data ([0..1] for floats or [0..255] for integers).\n",
      "Clipping input data to the valid range for imshow with RGB data ([0..1] for floats or [0..255] for integers).\n",
      "Clipping input data to the valid range for imshow with RGB data ([0..1] for floats or [0..255] for integers).\n",
      "Clipping input data to the valid range for imshow with RGB data ([0..1] for floats or [0..255] for integers).\n",
      "Clipping input data to the valid range for imshow with RGB data ([0..1] for floats or [0..255] for integers).\n",
      "Clipping input data to the valid range for imshow with RGB data ([0..1] for floats or [0..255] for integers).\n",
      "Clipping input data to the valid range for imshow with RGB data ([0..1] for floats or [0..255] for integers).\n",
      "Clipping input data to the valid range for imshow with RGB data ([0..1] for floats or [0..255] for integers).\n",
      "Clipping input data to the valid range for imshow with RGB data ([0..1] for floats or [0..255] for integers).\n",
      "Clipping input data to the valid range for imshow with RGB data ([0..1] for floats or [0..255] for integers).\n",
      "Clipping input data to the valid range for imshow with RGB data ([0..1] for floats or [0..255] for integers).\n",
      "Clipping input data to the valid range for imshow with RGB data ([0..1] for floats or [0..255] for integers).\n",
      "Clipping input data to the valid range for imshow with RGB data ([0..1] for floats or [0..255] for integers).\n",
      "Clipping input data to the valid range for imshow with RGB data ([0..1] for floats or [0..255] for integers).\n"
     ]
    },
    {
     "data": {
      "image/png": "[encoded data removed]",
      "text/plain": [
       "<Figure size 1152x288 with 20 Axes>"
      ]
     },
     "metadata": {},
     "output_type": "display_data"
    },
    {
     "name": "stdout",
     "output_type": "stream",
     "text": [
      "A: 5 (Dog) P: 3 (Cat) Top:(3 [Cat]:0.69492) (5 [Dog]:0.30508) (8 [Ship]:0.00000) \n",
      "A: 7 (Horse) P: 8 (Ship) Top:(8 [Ship]:0.99998) (1 [Automobile]:0.00002) (0 [Airplane]:0.00000) \n",
      "A: 1 (Automobile) P: 0 (Airplane) Top:(0 [Airplane]:0.91530) (3 [Cat]:0.08212) (8 [Ship]:0.00229) \n",
      "A: 4 (Deer) P: 1 (Automobile) Top:(1 [Automobile]:0.66054) (8 [Ship]:0.18334) (0 [Airplane]:0.15612) \n",
      "A: 9 (Truck) P: 4 (Deer) Top:(4 [Deer]:1.00000) (6 [Frog]:0.00000) (3 [Cat]:0.00000) \n",
      "A: 3 (Cat) P: 6 (Frog) Top:(6 [Frog]:0.99623) (5 [Dog]:0.00377) (4 [Deer]:0.00000) \n",
      "A: 5 (Dog) P: 1 (Automobile) Top:(1 [Automobile]:0.64421) (3 [Cat]:0.35578) (9 [Truck]:0.00000) \n",
      "A: 7 (Horse) P: 6 (Frog) Top:(6 [Frog]:1.00000) (9 [Truck]:0.00000) (5 [Dog]:0.00000) \n",
      "A: 3 (Cat) P: 3 (Cat) Top:(3 [Cat]:1.00000) (5 [Dog]:0.00000) (4 [Deer]:0.00000) \n",
      "A: 4 (Deer) P: 1 (Automobile) Top:(1 [Automobile]:1.00000) (9 [Truck]:0.00000) (8 [Ship]:0.00000) \n",
      "A: 7 (Horse) P: 0 (Airplane) Top:(0 [Airplane]:1.00000) (8 [Ship]:0.00000) (4 [Deer]:0.00000) \n",
      "A: 5 (Dog) P: 9 (Truck) Top:(9 [Truck]:1.00000) (1 [Automobile]:0.00000) (8 [Ship]:0.00000) \n",
      "A: 5 (Dog) P: 5 (Dog) Top:(5 [Dog]:1.00000) (3 [Cat]:0.00000) (2 [Bird]:0.00000) \n",
      "A: 2 (Bird) P: 7 (Horse) Top:(7 [Horse]:1.00000) (5 [Dog]:0.00000) (1 [Automobile]:0.00000) \n",
      "A: 4 (Deer) P: 9 (Truck) Top:(9 [Truck]:1.00000) (1 [Automobile]:0.00000) (8 [Ship]:0.00000) \n",
      "A: 4 (Deer) P: 8 (Ship) Top:(8 [Ship]:1.00000) (6 [Frog]:0.00000) (9 [Truck]:0.00000) \n",
      "A: 0 (Airplane) P: 5 (Dog) Top:(5 [Dog]:1.00000) (3 [Cat]:0.00000) (2 [Bird]:0.00000) \n",
      "A: 6 (Frog) P: 7 (Horse) Top:(7 [Horse]:0.99316) (5 [Dog]:0.00684) (3 [Cat]:0.00000) \n",
      "A: 7 (Horse) P: 8 (Ship) Top:(8 [Ship]:1.00000) (9 [Truck]:0.00000) (0 [Airplane]:0.00000) \n",
      "A: 5 (Dog) P: 6 (Frog) Top:(6 [Frog]:1.00000) (2 [Bird]:0.00000) (4 [Deer]:0.00000) \n"
     ]
    }
   ],
   "source": [
    "show_predictions(sess, tf_base_model, test_images, test_labels_act, cifar10_labels, 3)"
   ]
  },
  {
   "cell_type": "code",
   "execution_count": 40,
   "metadata": {},
   "outputs": [],
   "source": [
    "sess.close() # we can now close the session to free up some memory"
   ]
  },
  {
   "cell_type": "markdown",
   "metadata": {},
   "source": [
    "## Summary:\n",
    "* In this workbook we created a base model with Tensorflow, which we trained on `45,000` images for `15` epochs.\n",
    "* We observed that the model was overfitting the training data after `5-6` epochs, when the validation loss started to flatten off after falling towards zero and the validation accuracy started to flatten after rising. \n",
    "* Our model achieved a final _training accuracy_ `~99%` and _validation accuracy_ `71%`, which was indicative of an overfitting model.\n",
    "* The low _test accuracy_ `~70%` + large difference between training & validation accuracies confirms overfitting.\n",
    "* For the same reason, a lot of our predictions were off from the actual values.\n",
    "\n",
    "This behavior was expected - we simply do not have enough images to train our model so that it generalizes well. \n",
    "\n",
    "In Part-2, we will add Image Augmentation to create an infinite stream of randomly transformed images from our training data set. This will provide a greater volume of training data, which will hopefully increase our generalization score (i.e. score against test data). \n",
    "\n",
    "\n",
    "#### A Note on my Setup:\n",
    "I am using the following tools for running these workbooks:\n",
    "* Python 3.6.6 (64 bit) on Windows 10 (64 bit) / Ubuntu 16.04 (64 bit)\n",
    "* Numpy 1.14 or greater\n",
    "* Matplotlib 2.2 or later\n",
    "* Seaborn 0.9.0 or later\n",
    "* Tensorflow 1.8.0 (GPU version)\n",
    "* Keras 2.2.0 (GPU version)\n",
    "\n",
    "## <center>-*- END -*- </center>"
   ]
  },
  {
   "cell_type": "code",
   "execution_count": null,
   "metadata": {},
   "outputs": [],
   "source": []
  }
 ],
 "metadata": {
  "kernelspec": {
   "display_name": "Python 3",
   "language": "python",
   "name": "python3"
  },
  "language_info": {
   "codemirror_mode": {
    "name": "ipython",
    "version": 3
   },
   "file_extension": ".py",
   "mimetype": "text/x-python",
   "name": "python",
   "nbconvert_exporter": "python",
   "pygments_lexer": "ipython3",
   "version": "3.6.6"
  }
 },
 "nbformat": 4,
 "nbformat_minor": 2
}
